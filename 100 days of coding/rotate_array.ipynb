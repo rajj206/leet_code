{
 "cells": [
  {
   "cell_type": "code",
   "execution_count": 1,
   "metadata": {},
   "outputs": [
    {
     "name": "stdout",
     "output_type": "stream",
     "text": [
      "7\n",
      "3\n",
      "[5, 6, 7]\n",
      "[1, 2, 3, 4]\n"
     ]
    }
   ],
   "source": [
    "def rotateArray(nums,k):\n",
    "    n = len(nums)\n",
    "    print (n)\n",
    "    k = k % n\n",
    "    print (k)\n",
    "    print (nums[-k:])\n",
    "    print (nums[:-k])\n",
    "    nums[:] = nums[-k:] + nums[:-k]\n",
    "\n",
    "nums1 = [1, 2, 3, 4, 5, 6, 7]\n",
    "rotateArray(nums1, 3)\n",
    "\n"
   ]
  }
 ],
 "metadata": {
  "kernelspec": {
   "display_name": "pyspark-env",
   "language": "python",
   "name": "python3"
  },
  "language_info": {
   "codemirror_mode": {
    "name": "ipython",
    "version": 3
   },
   "file_extension": ".py",
   "mimetype": "text/x-python",
   "name": "python",
   "nbconvert_exporter": "python",
   "pygments_lexer": "ipython3",
   "version": "3.12.2"
  }
 },
 "nbformat": 4,
 "nbformat_minor": 2
}
