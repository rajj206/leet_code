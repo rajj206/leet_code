{
 "cells": [
  {
   "cell_type": "code",
   "execution_count": 2,
   "metadata": {},
   "outputs": [
    {
     "data": {
      "text/plain": [
       "(5, 1, 6)"
      ]
     },
     "execution_count": 2,
     "metadata": {},
     "output_type": "execute_result"
    }
   ],
   "source": [
    "class Solution(object):\n",
    "    def maxProfit(self, prices):\n",
    "        \"\"\"\n",
    "        :type prices: List[int]\n",
    "        :rtype: int\n",
    "        \"\"\"\n",
    "        min_price = float('inf')\n",
    "        max_profit = 0\n",
    "        for price in prices:\n",
    "            if price < min_price:\n",
    "                min_price = price\n",
    "            elif price - min_price > max_profit:\n",
    "                max_profit = price - min_price\n",
    "                buy_price = min_price\n",
    "                sell_price = price\n",
    "        return max_profit, buy_price, sell_price\n",
    "        \n",
    "\n",
    "solution = Solution()\n",
    "prices=[7,1,5,3,6,4]\n",
    "solution.maxProfit(prices)"
   ]
  }
 ],
 "metadata": {
  "kernelspec": {
   "display_name": "pyspark-env",
   "language": "python",
   "name": "python3"
  },
  "language_info": {
   "codemirror_mode": {
    "name": "ipython",
    "version": 3
   },
   "file_extension": ".py",
   "mimetype": "text/x-python",
   "name": "python",
   "nbconvert_exporter": "python",
   "pygments_lexer": "ipython3",
   "version": "3.12.2"
  }
 },
 "nbformat": 4,
 "nbformat_minor": 2
}
