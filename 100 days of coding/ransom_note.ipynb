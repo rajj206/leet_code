{
 "cells": [
  {
   "cell_type": "code",
   "execution_count": 6,
   "metadata": {},
   "outputs": [],
   "source": [
    "def checkMagazine(magazine, note):\n",
    "    from collections import Counter\n",
    "    # Write your code here\n",
    "    magazine_count = Counter(magazine)\n",
    "    note_count = Counter(note)\n",
    "    print (note_count)\n",
    "    for word, count in note_count.items():\n",
    "        if magazine_count[word] < count:\n",
    "            print(\"No\")\n",
    "            return\n",
    "    print(\"Yes\")"
   ]
  },
  {
   "cell_type": "code",
   "execution_count": 7,
   "metadata": {},
   "outputs": [
    {
     "name": "stdout",
     "output_type": "stream",
     "text": [
      "Counter({'t': 3, 'a': 3, ' ': 2, 'A': 1, 'c': 1, 'k': 1, 'd': 1, 'w': 1, 'n': 1})\n",
      "No\n"
     ]
    }
   ],
   "source": [
    "magazine= \"Attack dawn\"  \n",
    "note= \"Attack at dawn\"\n",
    "\n",
    "checkMagazine(magazine, note)"
   ]
  }
 ],
 "metadata": {
  "kernelspec": {
   "display_name": "pyspark-env",
   "language": "python",
   "name": "python3"
  },
  "language_info": {
   "codemirror_mode": {
    "name": "ipython",
    "version": 3
   },
   "file_extension": ".py",
   "mimetype": "text/x-python",
   "name": "python",
   "nbconvert_exporter": "python",
   "pygments_lexer": "ipython3",
   "version": "3.12.2"
  }
 },
 "nbformat": 4,
 "nbformat_minor": 2
}
