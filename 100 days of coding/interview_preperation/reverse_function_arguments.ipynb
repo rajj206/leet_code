{
 "cells": [
  {
   "cell_type": "code",
   "execution_count": 1,
   "metadata": {},
   "outputs": [
    {
     "name": "stdout",
     "output_type": "stream",
     "text": [
      "9\n",
      "5\n"
     ]
    }
   ],
   "source": [
    "def reverse_arguments(func):\n",
    "    def new_func(*args):\n",
    "        return func(*args[::-1])\n",
    "    return new_func\n",
    "\n",
    "func = pow\n",
    "new_function = reverse_arguments(func)\n",
    "result = new_function(2,3)\n",
    "print (result)\n",
    "\n",
    "def func(a,b,c):\n",
    "    return a+b*c\n",
    "\n",
    "new_function = reverse_arguments(func)\n",
    "\n",
    "result_old = func(1,2,3) # 1+2*3\n",
    "\n",
    "result_new = new_function(1,2,3) #3+2*1\n",
    "\n",
    "print (result_new)"
   ]
  }
 ],
 "metadata": {
  "kernelspec": {
   "display_name": "pyspark-env",
   "language": "python",
   "name": "python3"
  },
  "language_info": {
   "codemirror_mode": {
    "name": "ipython",
    "version": 3
   },
   "file_extension": ".py",
   "mimetype": "text/x-python",
   "name": "python",
   "nbconvert_exporter": "python",
   "pygments_lexer": "ipython3",
   "version": "3.12.2"
  }
 },
 "nbformat": 4,
 "nbformat_minor": 2
}
