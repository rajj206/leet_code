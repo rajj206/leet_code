{
 "cells": [
  {
   "cell_type": "code",
   "execution_count": 3,
   "metadata": {},
   "outputs": [
    {
     "name": "stdout",
     "output_type": "stream",
     "text": [
      "[1, 2, 2, 4, '_']\n"
     ]
    }
   ],
   "source": [
    "class Solution(object):\n",
    "    def removeElement(self,nums,val):\n",
    "        k=0\n",
    "        for i in range(len(nums)):\n",
    "            if nums[i] != val:\n",
    "                nums[k] = nums[i]\n",
    "                k+=1\n",
    "        for i in range(k,len(nums)):\n",
    "            nums[i] = '_'\n",
    "        return k\n",
    "    \n",
    "solution = Solution()\n",
    "nums=[1,2,2,3,4]\n",
    "solution.removeElement(nums, 3)\n",
    "print (nums)"
   ]
  }
 ],
 "metadata": {
  "kernelspec": {
   "display_name": "pyspark-env",
   "language": "python",
   "name": "python3"
  },
  "language_info": {
   "codemirror_mode": {
    "name": "ipython",
    "version": 3
   },
   "file_extension": ".py",
   "mimetype": "text/x-python",
   "name": "python",
   "nbconvert_exporter": "python",
   "pygments_lexer": "ipython3",
   "version": "3.12.2"
  }
 },
 "nbformat": 4,
 "nbformat_minor": 2
}
