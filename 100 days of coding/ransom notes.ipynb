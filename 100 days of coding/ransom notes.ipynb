{
 "cells": [
  {
   "cell_type": "markdown",
   "metadata": {},
   "source": [
    "![alt text](image-1.png)"
   ]
  },
  {
   "cell_type": "markdown",
   "metadata": {},
   "source": [
    "Step-by-Step Solution\n",
    "\n",
    "Count Words in Magazine and Note: We will use the Counter from the collections module to count the occurrences of each word.\n",
    "\n",
    "Check Availability: For each word in the ransom note, check if it appears in the magazine the required number of times.\n",
    "\n",
    "\n",
    "\n",
    "Explanation:\n",
    "Splitting Input Strings: The input strings are split into lists of words.\n",
    "\n",
    "Counting Words:\n",
    "\n",
    "magazine_counts will be Counter({'give': 1, 'me': 1, 'one': 1, 'grand': 1, 'today': 1, 'night': 1})\n",
    "\n",
    "note_counts will be Counter({'give': 1, 'one': 1, 'grand': 1, 'today': 1})\n",
    "\n",
    "\n",
    "Checking Word Availability:\n",
    "Iterate over each word in note_counts.\n",
    "Compare its count in note_counts with its count in magazine_counts."
   ]
  },
  {
   "cell_type": "code",
   "execution_count": null,
   "metadata": {},
   "outputs": [],
   "source": [
    "def checkMagazine(magazine, note):\n",
    "    from collections import Counter\n",
    "\n",
    "    # Count the occurrences of each word in the magazine and the note\n",
    "    magazine_counts = Counter(magazine)\n",
    "    print (magazine_counts)\n",
    "    note_counts = Counter(note)\n",
    "    print (note_counts)\n",
    "    \n",
    "    # Check if the note can be constructed from the magazine\n",
    "    for word, count in note_counts.items():\n",
    "        if magazine_counts[word] < count:\n",
    "            print(\"No\")\n",
    "            return\n",
    "    \n",
    "    print(\"Yes\")"
   ]
  },
  {
   "cell_type": "code",
   "execution_count": 3,
   "metadata": {},
   "outputs": [
    {
     "name": "stdout",
     "output_type": "stream",
     "text": [
      "['give', 'me', 'one', 'grand', 'today', 'night']\n",
      "['give', 'one', 'grand', 'today']\n",
      "Counter({'give': 1, 'me': 1, 'one': 1, 'grand': 1, 'today': 1, 'night': 1})\n",
      "Yes\n"
     ]
    }
   ],
   "source": [
    "magazine = \"give me one grand today night\".split()\n",
    "note = \"give one grand today\".split()\n",
    "\n",
    "print (magazine)\n",
    "print (note)\n",
    "\n",
    "checkMagazine(magazine, note)  # Expected Output: Yes"
   ]
  }
 ],
 "metadata": {
  "kernelspec": {
   "display_name": "base",
   "language": "python",
   "name": "python3"
  },
  "language_info": {
   "codemirror_mode": {
    "name": "ipython",
    "version": 3
   },
   "file_extension": ".py",
   "mimetype": "text/x-python",
   "name": "python",
   "nbconvert_exporter": "python",
   "pygments_lexer": "ipython3",
   "version": "0.0.0"
  }
 },
 "nbformat": 4,
 "nbformat_minor": 2
}
