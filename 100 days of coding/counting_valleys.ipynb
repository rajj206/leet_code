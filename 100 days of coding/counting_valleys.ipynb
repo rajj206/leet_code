{
 "cells": [
  {
   "cell_type": "markdown",
   "metadata": {},
   "source": [
    "![alt text](image-3.png)"
   ]
  },
  {
   "cell_type": "markdown",
   "metadata": {},
   "source": [
    "To solve the problem of counting the number of valleys in a hiker's path, we need to carefully analyze the sequence of steps described by the string provided. Here are the key steps and concepts we'll use to solve this problem:\n",
    "\n",
    "Understanding Valleys and Mountains:\n",
    "\n",
    "A valley starts with a step down from sea level and ends with a step up to sea level.\n",
    "A mountain starts with a step up from sea level and ends with a step down to sea level.\n",
    "The hiker’s altitude changes by +1 for each 'U' (uphill step) and -1 for each 'D' (downhill step).\n",
    "Tracking Altitude:\n",
    "\n",
    "We start at sea level (altitude 0).\n",
    "We need to keep track of the current altitude as we process each step.\n",
    "A valley is identified when we go below sea level (altitude < 0) and return back to sea level.\n",
    "Counting Valleys:\n",
    "\n",
    "Initialize a counter for valleys.\n",
    "As we process each step, if the current step brings us back to sea level from below, we increment the valley counter."
   ]
  },
  {
   "cell_type": "code",
   "execution_count": 1,
   "metadata": {},
   "outputs": [
    {
     "name": "stdout",
     "output_type": "stream",
     "text": [
      "1\n"
     ]
    }
   ],
   "source": [
    "def countingValleys(steps, path):\n",
    "    altitude = 0\n",
    "    valleys = 0\n",
    "    in_valley = False\n",
    "    \n",
    "    for step in path:\n",
    "        if step == 'U':\n",
    "            altitude += 1\n",
    "        else:  # step == 'D'\n",
    "            altitude -= 1\n",
    "        \n",
    "        # Check if we have just come up to sea level from a valley\n",
    "        if altitude == 0 and step == 'U':\n",
    "            valleys += 1\n",
    "    \n",
    "    return valleys\n",
    "\n",
    "\n"
   ]
  },
  {
   "cell_type": "code",
   "execution_count": 2,
   "metadata": {},
   "outputs": [
    {
     "name": "stdout",
     "output_type": "stream",
     "text": [
      "1\n"
     ]
    }
   ],
   "source": [
    "# Sample Input\n",
    "steps = 8\n",
    "path = \"UDDDUDUU\"\n",
    "\n",
    "# Sample Output\n",
    "print(countingValleys(steps, path))  # Output should be 1"
   ]
  }
 ],
 "metadata": {
  "kernelspec": {
   "display_name": "base",
   "language": "python",
   "name": "python3"
  },
  "language_info": {
   "codemirror_mode": {
    "name": "ipython",
    "version": 3
   },
   "file_extension": ".py",
   "mimetype": "text/x-python",
   "name": "python",
   "nbconvert_exporter": "python",
   "pygments_lexer": "ipython3",
   "version": "0.0.0"
  }
 },
 "nbformat": 4,
 "nbformat_minor": 2
}
