{
 "cells": [
  {
   "cell_type": "code",
   "execution_count": 2,
   "metadata": {},
   "outputs": [
    {
     "name": "stdout",
     "output_type": "stream",
     "text": [
      "1\n"
     ]
    }
   ],
   "source": [
    "def bribe(q):\n",
    "    bribe = 0\n",
    "    chaotic = False\n",
    "    for i in range(len(q)):\n",
    "        if q[i] - (i+1) > 2:\n",
    "            chaotic = True\n",
    "    if chaotic:\n",
    "        print (\"Too chaotic\")\n",
    "    else:\n",
    "        for i in range(len(q)):\n",
    "            for j in range(max(0, q[i]-2), i):\n",
    "                if q[j] > q[i]:\n",
    "                    bribe+=1\n",
    "        print (bribe)        \n",
    "\n",
    "q = [1,2,3,5,4,6,7,8] \n",
    "bribe(q)"
   ]
  }
 ],
 "metadata": {
  "kernelspec": {
   "display_name": "pyspark-env",
   "language": "python",
   "name": "python3"
  },
  "language_info": {
   "codemirror_mode": {
    "name": "ipython",
    "version": 3
   },
   "file_extension": ".py",
   "mimetype": "text/x-python",
   "name": "python",
   "nbconvert_exporter": "python",
   "pygments_lexer": "ipython3",
   "version": "3.12.2"
  }
 },
 "nbformat": 4,
 "nbformat_minor": 2
}
