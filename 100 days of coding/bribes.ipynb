{
 "cells": [
  {
   "cell_type": "code",
   "execution_count": 2,
   "metadata": {},
   "outputs": [
    {
     "name": "stdout",
     "output_type": "stream",
     "text": [
      "1\n"
     ]
    }
   ],
   "source": [
    "def bribe(q):\n",
    "    bribe = 0\n",
    "    chaotic = False\n",
    "    for i in range(len(q)):\n",
    "        if q[i] - (i+1) > 2:\n",
    "            chaotic = True\n",
    "    if chaotic:\n",
    "        print (\"Too chaotic\")\n",
    "    else:\n",
    "        for i in range(len(q)):\n",
    "            for j in range(max(0, q[i]-2), i):\n",
    "                if q[j] > q[i]:\n",
    "                    bribe+=1\n",
    "        print (bribe)        \n",
    "\n",
    "q = [1,2,3,5,4,6,7,8] \n",
    "bribe(q)"
   ]
  },
  {
   "cell_type": "code",
   "execution_count": null,
   "metadata": {},
   "outputs": [],
   "source": [
    "def minimumBribes(q):\n",
    "    c = 0\n",
    "    for i in range(len(q)-1, 0, -1):\n",
    "        if q[i] != i+1:\n",
    "            if q[i-1] == i+1:\n",
    "                c+=1\n",
    "                q[i], q[i-1] = q[i-1], q[i]\n",
    "                #print(\"1st swap ---------->\", q)\n",
    "            elif q[i-2] == i+1:\n",
    "                c+=2\n",
    "                q[i-2], q[i-1] = q[i-1], q[i-2]\n",
    "                q[i-1], q[i] = q[i], q[i-1]\n",
    "                #print(\"2nd swap ---------->\", q)\n",
    "            else:\n",
    "                print(\"Too chaotic\")\n",
    "                return\n",
    "    print(c)\n",
    "                 "
   ]
  }
 ],
 "metadata": {
  "kernelspec": {
   "display_name": "pyspark-env",
   "language": "python",
   "name": "python3"
  },
  "language_info": {
   "codemirror_mode": {
    "name": "ipython",
    "version": 3
   },
   "file_extension": ".py",
   "mimetype": "text/x-python",
   "name": "python",
   "nbconvert_exporter": "python",
   "pygments_lexer": "ipython3",
   "version": "3.12.2"
  }
 },
 "nbformat": 4,
 "nbformat_minor": 2
}
