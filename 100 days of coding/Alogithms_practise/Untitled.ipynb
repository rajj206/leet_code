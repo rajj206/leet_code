{
 "cells": [
  {
   "cell_type": "code",
   "execution_count": 1,
   "id": "16ecaa66",
   "metadata": {},
   "outputs": [],
   "source": [
    "import pandas as pd"
   ]
  },
  {
   "cell_type": "code",
   "execution_count": 11,
   "id": "378be3f3",
   "metadata": {},
   "outputs": [],
   "source": [
    "array = [1,2,9,-1,3,6,4]\n",
    "tgt_sum = 11\n",
    "\n",
    "def two_sum(array, tgt_sum):\n",
    "    for i in range(len(array)-1):\n",
    "        firstnum = array[i]\n",
    "        print ('firstnum :' + str(firstnum))\n",
    "        for j in range(i+1, len(array)):\n",
    "            secondnum = array[j]\n",
    "            print ('secondnum :' + str(secondnum))\n",
    "            sum = firstnum + secondnum\n",
    "            if sum == tgt_sum:\n",
    "                return [firstnum, secondnum]\n",
    "    return []"
   ]
  },
  {
   "cell_type": "code",
   "execution_count": null,
   "id": "f837657c",
   "metadata": {},
   "outputs": [],
   "source": []
  },
  {
   "cell_type": "code",
   "execution_count": 12,
   "id": "0f2b3f41",
   "metadata": {},
   "outputs": [
    {
     "name": "stdout",
     "output_type": "stream",
     "text": [
      "firstnum :1\n",
      "secondnum :2\n",
      "secondnum :9\n",
      "secondnum :-1\n",
      "secondnum :3\n",
      "secondnum :6\n",
      "secondnum :4\n",
      "firstnum :2\n",
      "secondnum :9\n"
     ]
    },
    {
     "data": {
      "text/plain": [
       "[2, 9]"
      ]
     },
     "execution_count": 12,
     "metadata": {},
     "output_type": "execute_result"
    }
   ],
   "source": [
    "two_sum(array, tgt_sum)"
   ]
  }
 ],
 "metadata": {
  "kernelspec": {
   "display_name": "Python 3 (ipykernel)",
   "language": "python",
   "name": "python3"
  },
  "language_info": {
   "codemirror_mode": {
    "name": "ipython",
    "version": 3
   },
   "file_extension": ".py",
   "mimetype": "text/x-python",
   "name": "python",
   "nbconvert_exporter": "python",
   "pygments_lexer": "ipython3",
   "version": "3.11.5"
  }
 },
 "nbformat": 4,
 "nbformat_minor": 5
}
