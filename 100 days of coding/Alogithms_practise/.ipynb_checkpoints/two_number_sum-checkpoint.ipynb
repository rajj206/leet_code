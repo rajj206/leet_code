{
 "cells": [
  {
   "cell_type": "code",
   "execution_count": 4,
   "id": "bba19e1e",
   "metadata": {},
   "outputs": [
    {
     "name": "stdout",
     "output_type": "stream",
     "text": [
      "value of i :0\n",
      "value of j :1\n",
      "value of j :2\n",
      "value of j :3\n",
      "value of j :4\n",
      "value of j :5\n",
      "value of j :6\n",
      "value of j :7\n",
      "value of i :1\n",
      "value of j :2\n",
      "value of j :3\n",
      "value of j :4\n",
      "value of j :5\n",
      "value of j :6\n",
      "value of j :7\n",
      "value of i :2\n",
      "value of j :3\n",
      "value of j :4\n",
      "value of j :5\n",
      "value of j :6\n",
      "value of j :7\n",
      "value of i :3\n",
      "value of j :4\n",
      "value of j :5\n",
      "value of j :6\n",
      "value of j :7\n",
      "value of i :4\n",
      "value of j :5\n",
      "value of j :6\n"
     ]
    },
    {
     "data": {
      "text/plain": [
       "[11, -1]"
      ]
     },
     "execution_count": 4,
     "metadata": {},
     "output_type": "execute_result"
    }
   ],
   "source": [
    "def twoNumberSum(array, targetSum):\n",
    "    for i in (range(len(array)-1)):\n",
    "        print (\"value of i :\" + str(i))\n",
    "        FirstNum = array[i]\n",
    "        for j in (range(i+1, len(array))):\n",
    "            print (\"value of j :\" + str(j))\n",
    "            SecondNum = array[j]\n",
    "            if FirstNum + SecondNum == targetSum:\n",
    "                return [FirstNum, SecondNum]\n",
    "    return []\n",
    "\n",
    "array = [3,5,-4,8,11,1,-1,6]\n",
    "targetSum = 10\n",
    "twoNumberSum(array, targetSum)"
   ]
  },
  {
   "cell_type": "code",
   "execution_count": 5,
   "id": "b5bfab03",
   "metadata": {},
   "outputs": [
    {
     "data": {
      "text/plain": [
       "[11, -1]"
      ]
     },
     "execution_count": 5,
     "metadata": {},
     "output_type": "execute_result"
    }
   ],
   "source": [
    "def twoNumberSum(array, targetSum):\n",
    "    nums = {}\n",
    "    for num in array:\n",
    "        match = targetSum - num\n",
    "        if match in nums:\n",
    "            return [match, num]\n",
    "        else:\n",
    "            nums[num] = True\n",
    "    return []\n",
    "\n",
    "array = [3,5,-4,8,11,1,-1,6]\n",
    "targetSum = 10\n",
    "twoNumberSum(array, targetSum)"
   ]
  }
 ],
 "metadata": {
  "kernelspec": {
   "display_name": "Python 3 (ipykernel)",
   "language": "python",
   "name": "python3"
  },
  "language_info": {
   "codemirror_mode": {
    "name": "ipython",
    "version": 3
   },
   "file_extension": ".py",
   "mimetype": "text/x-python",
   "name": "python",
   "nbconvert_exporter": "python",
   "pygments_lexer": "ipython3",
   "version": "3.11.5"
  }
 },
 "nbformat": 4,
 "nbformat_minor": 5
}
