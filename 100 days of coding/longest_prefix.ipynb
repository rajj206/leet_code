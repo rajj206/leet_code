{
 "cells": [
  {
   "cell_type": "code",
   "execution_count": 6,
   "metadata": {},
   "outputs": [
    {
     "name": "stdout",
     "output_type": "stream",
     "text": [
      "fl\n",
      "\n"
     ]
    }
   ],
   "source": [
    "def longest_common_prefix(strs):\n",
    "    if not strs:\n",
    "        return \"\"\n",
    "\n",
    "    # Find the minimum length string from the array\n",
    "    min_len = min(len(s) for s in strs)\n",
    "\n",
    "    # Initialize the prefix as an empty string\n",
    "    prefix = \"\"\n",
    "\n",
    "    # Iterate over the range of minimum length\n",
    "    for i in range(min_len):\n",
    "        # Take the current character from the first string\n",
    "        current_char = strs[0][i]\n",
    "\n",
    "        # Check if this character is present at the same position in all strings\n",
    "        if all(s[i] == current_char for s in strs):\n",
    "            prefix += current_char\n",
    "        else:\n",
    "            break\n",
    "\n",
    "    return prefix\n",
    "\n",
    "# Example usage\n",
    "print(longest_common_prefix([\"flower\",\"flow\",\"flight\"]))  # Output: \"fl\"\n",
    "print(longest_common_prefix([\"dog\",\"racecar\",\"car\"]))    # Output: \"\"\n"
   ]
  }
 ],
 "metadata": {
  "kernelspec": {
   "display_name": "pyspark-env",
   "language": "python",
   "name": "python3"
  },
  "language_info": {
   "codemirror_mode": {
    "name": "ipython",
    "version": 3
   },
   "file_extension": ".py",
   "mimetype": "text/x-python",
   "name": "python",
   "nbconvert_exporter": "python",
   "pygments_lexer": "ipython3",
   "version": "3.12.2"
  }
 },
 "nbformat": 4,
 "nbformat_minor": 2
}
