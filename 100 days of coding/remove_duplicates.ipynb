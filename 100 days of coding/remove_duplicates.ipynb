{
 "cells": [
  {
   "cell_type": "code",
   "execution_count": 6,
   "metadata": {},
   "outputs": [
    {
     "name": "stdout",
     "output_type": "stream",
     "text": [
      "[1, 2, 3, 4, 5]\n"
     ]
    }
   ],
   "source": [
    "class Solution():\n",
    "    def removeDuplicates(self, nums):\n",
    "        if not nums:\n",
    "            return 0\n",
    "        k = 1\n",
    "        for i in range(1, len(nums)):\n",
    "            if nums[i] != nums[i-1]:\n",
    "                nums[k] = nums[i]\n",
    "                k+=1\n",
    "\n",
    "        return k\n",
    "\n",
    "\n",
    "nums = [1,1,2,3,4,5,5]\n",
    "solution = Solution()\n",
    "k = solution.removeDuplicates(nums)\n",
    "print (nums[:k])"
   ]
  }
 ],
 "metadata": {
  "kernelspec": {
   "display_name": "pyspark-env",
   "language": "python",
   "name": "python3"
  },
  "language_info": {
   "codemirror_mode": {
    "name": "ipython",
    "version": 3
   },
   "file_extension": ".py",
   "mimetype": "text/x-python",
   "name": "python",
   "nbconvert_exporter": "python",
   "pygments_lexer": "ipython3",
   "version": "3.12.2"
  }
 },
 "nbformat": 4,
 "nbformat_minor": 2
}
