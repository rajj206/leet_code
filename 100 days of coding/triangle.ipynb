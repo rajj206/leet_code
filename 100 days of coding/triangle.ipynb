{
 "cells": [
  {
   "cell_type": "code",
   "execution_count": 8,
   "metadata": {},
   "outputs": [
    {
     "name": "stdout",
     "output_type": "stream",
     "text": [
      "[2, 2, 1]\n",
      "isosceles\n",
      "[3, 3, 3]\n",
      "equilateral\n",
      "[3, 4, 5]\n",
      "scalene\n",
      "[1, 1, 3]\n",
      "not a triangle\n"
     ]
    }
   ],
   "source": [
    "# def traingletype(triangletoy):\n",
    "#     result = []\n",
    "#     for triangle in triangletoy:\n",
    "#         sides = \n",
    "\n",
    "\n",
    "triangletoy = ['2,2,1', '3, 3, 3', '3, 4, 5', '1, 1, 3']\n",
    "\n",
    "for triangle in triangletoy:\n",
    "    sides = list(map(int, triangle.split(',')))\n",
    "    sides.sort\n",
    "    print (sides)\n",
    "    a,b,c = sides\n",
    "    if a + b <= c:\n",
    "        print (\"not a triangle\")\n",
    "    elif a == b == c:\n",
    "        print (\"equilateral\")\n",
    "    elif a == b or  b == c or c == a:\n",
    "        print (\"isosceles\")\n",
    "    else:\n",
    "        print (\"scalene\")"
   ]
  }
 ],
 "metadata": {
  "kernelspec": {
   "display_name": "pyspark-env",
   "language": "python",
   "name": "python3"
  },
  "language_info": {
   "codemirror_mode": {
    "name": "ipython",
    "version": 3
   },
   "file_extension": ".py",
   "mimetype": "text/x-python",
   "name": "python",
   "nbconvert_exporter": "python",
   "pygments_lexer": "ipython3",
   "version": "3.12.2"
  }
 },
 "nbformat": 4,
 "nbformat_minor": 2
}
