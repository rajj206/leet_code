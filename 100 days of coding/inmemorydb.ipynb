{
 "cells": [
  {
   "cell_type": "code",
   "execution_count": 1,
   "metadata": {},
   "outputs": [
    {
     "name": "stdout",
     "output_type": "stream",
     "text": [
      "[[1, 'John Doe'], [2, 'Jane Doe']]\n",
      "{'users': {'columns': ['id', 'name', 'email'], 'data': [[1, 'John Doe', 'john@example.com'], [2, 'Jane Doe', 'jane@example.com']]}}\n"
     ]
    }
   ],
   "source": [
    "class InMemoryDatabase:\n",
    "    def __init__(self):\n",
    "        self.tables = {}\n",
    "\n",
    "    def create_table(self, table_name, columns):\n",
    "        if table_name in self.tables:\n",
    "            raise ValueError(\"Table already exists.\")\n",
    "        self.tables[table_name] = {\n",
    "            'columns': columns,\n",
    "            'data': []\n",
    "        }\n",
    "\n",
    "    def insert(self, table_name, values):\n",
    "        if table_name not in self.tables:\n",
    "            raise ValueError(\"Table does not exist.\")\n",
    "        table = self.tables[table_name]\n",
    "        if len(values) != len(table['columns']):\n",
    "            raise ValueError(\"Values do not match table schema.\")\n",
    "        table['data'].append(values)\n",
    "\n",
    "    def select(self, table_name, columns):\n",
    "        if table_name not in self.tables:\n",
    "            raise ValueError(\"Table does not exist.\")\n",
    "        table = self.tables[table_name]\n",
    "        col_indices = [table['columns'].index(col) for col in columns]\n",
    "        return [\n",
    "            [row[i] for i in col_indices]\n",
    "            for row in table['data']\n",
    "        ]\n",
    "\n",
    "    def __repr__(self):\n",
    "        return str(self.tables)\n",
    "\n",
    "\n",
    "# Example usage\n",
    "db = InMemoryDatabase()\n",
    "db.create_table('users', ['id', 'name', 'email'])\n",
    "db.insert('users', [1, 'John Doe', 'john@example.com'])\n",
    "db.insert('users', [2, 'Jane Doe', 'jane@example.com'])\n",
    "\n",
    "# Select specific columns\n",
    "print(db.select('users', ['id', 'name']))\n",
    "\n",
    "# Print the entire database state\n",
    "print(db)\n"
   ]
  }
 ],
 "metadata": {
  "kernelspec": {
   "display_name": "pyspark-env",
   "language": "python",
   "name": "python3"
  },
  "language_info": {
   "codemirror_mode": {
    "name": "ipython",
    "version": 3
   },
   "file_extension": ".py",
   "mimetype": "text/x-python",
   "name": "python",
   "nbconvert_exporter": "python",
   "pygments_lexer": "ipython3",
   "version": "3.12.2"
  }
 },
 "nbformat": 4,
 "nbformat_minor": 2
}
