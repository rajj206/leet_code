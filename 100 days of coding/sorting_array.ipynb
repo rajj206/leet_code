{
 "cells": [
  {
   "cell_type": "code",
   "execution_count": 9,
   "metadata": {},
   "outputs": [
    {
     "name": "stdout",
     "output_type": "stream",
     "text": [
      "2\n"
     ]
    }
   ],
   "source": [
    "def min_swaps_to_sort(arr):\n",
    "    n = len(arr)\n",
    "    arr_pos = [(val, idx) for idx, val in enumerate(arr)]\n",
    "    arr_pos.sort(key=lambda it: it[0])\n",
    "    visited = [False] * n\n",
    "    min_swaps = 0\n",
    "    \n",
    "    for i in range(n):\n",
    "        if visited[i] or arr_pos[i][1] == i:\n",
    "            continue\n",
    "        \n",
    "        cycle_length = 0\n",
    "        x = i\n",
    "        \n",
    "        while not visited[x]:\n",
    "            visited[x] = True\n",
    "            x = arr_pos[x][1]\n",
    "            cycle_length += 1\n",
    "        \n",
    "        if cycle_length > 0:\n",
    "            min_swaps += (cycle_length - 1)\n",
    "    \n",
    "    return min_swaps\n",
    "\n",
    "# Example usage\n",
    "arr = [4, 3, 2, 1]\n",
    "print(min_swaps_to_sort(arr))  # Output: 2\n"
   ]
  }
 ],
 "metadata": {
  "kernelspec": {
   "display_name": "pyspark-env",
   "language": "python",
   "name": "python3"
  },
  "language_info": {
   "codemirror_mode": {
    "name": "ipython",
    "version": 3
   },
   "file_extension": ".py",
   "mimetype": "text/x-python",
   "name": "python",
   "nbconvert_exporter": "python",
   "pygments_lexer": "ipython3",
   "version": "3.12.2"
  }
 },
 "nbformat": 4,
 "nbformat_minor": 2
}
