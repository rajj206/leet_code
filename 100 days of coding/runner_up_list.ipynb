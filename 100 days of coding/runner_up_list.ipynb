{
 "cells": [
  {
   "cell_type": "code",
   "execution_count": 4,
   "metadata": {},
   "outputs": [
    {
     "name": "stdout",
     "output_type": "stream",
     "text": [
      "7\n"
     ]
    }
   ],
   "source": [
    "if __name__ == '__main__':\n",
    "    #n = int(input())\n",
    "    #arr = list(map(int, input().split()))\n",
    "\n",
    "    arr = [1,2,3,4,5,5,7,7,8]\n",
    "    # Remove duplicates\n",
    "    unique_arr = list(set(arr))\n",
    "\n",
    "    # Sort the unique values\n",
    "    unique_arr.sort()\n",
    "\n",
    "    # The runner-up score is the second last element\n",
    "    print(unique_arr[-2])\n",
    "\n"
   ]
  }
 ],
 "metadata": {
  "kernelspec": {
   "display_name": "pyspark-env",
   "language": "python",
   "name": "python3"
  },
  "language_info": {
   "codemirror_mode": {
    "name": "ipython",
    "version": 3
   },
   "file_extension": ".py",
   "mimetype": "text/x-python",
   "name": "python",
   "nbconvert_exporter": "python",
   "pygments_lexer": "ipython3",
   "version": "3.12.2"
  }
 },
 "nbformat": 4,
 "nbformat_minor": 2
}
