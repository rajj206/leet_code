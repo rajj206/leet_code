{
 "cells": [
  {
   "cell_type": "code",
   "execution_count": 4,
   "metadata": {},
   "outputs": [
    {
     "data": {
      "text/plain": [
       "([[-63, -34, -9, 12], [-10, 0, 28, 23], [-27, -11, -2, 10], [9, 17, 25, 18]],\n",
       " 18)"
      ]
     },
     "execution_count": 4,
     "metadata": {},
     "output_type": "execute_result"
    }
   ],
   "source": [
    "def array_hour_glass(arr):\n",
    "    hourglass_sums = []\n",
    "    max_sum = -float('inf')\n",
    "    \n",
    "    for i in range(4):\n",
    "        row = []\n",
    "        for j in range(4):\n",
    "            top = arr[i][j] + arr[i][j+1] + arr[i][j+2]\n",
    "            middle = arr[i+1][j+1] \n",
    "            bottom = arr[i+2][j] + arr[i+2][j+1] + arr[i+2][j+2]\n",
    "            hourglass_sum = top + middle + bottom\n",
    "            \n",
    "            row.append(hourglass_sum)\n",
    "            \n",
    "            if hourglass_sum > max_sum:\n",
    "                max_sum = hourglass_sum\n",
    "        \n",
    "        hourglass_sums.append(row)\n",
    "    \n",
    "    return hourglass_sums, max_sum\n",
    "\n",
    "array = [\n",
    "    [-9, -9, -9,  1,  1,  1],\n",
    "    [ 0, -9,  0,  4,  3,  2],\n",
    "    [-9, -9, -9,  1,  2,  3],\n",
    "    [ 0,  0,  8,  6,  6,  0],\n",
    "    [ 0,  0,  0, -2,  0,  0],\n",
    "    [ 0,  0,  1,  2,  4,  0]\n",
    "]\n",
    "\n",
    "array_hour_glass(array)"
   ]
  }
 ],
 "metadata": {
  "kernelspec": {
   "display_name": "pyspark-env",
   "language": "python",
   "name": "python3"
  },
  "language_info": {
   "codemirror_mode": {
    "name": "ipython",
    "version": 3
   },
   "file_extension": ".py",
   "mimetype": "text/x-python",
   "name": "python",
   "nbconvert_exporter": "python",
   "pygments_lexer": "ipython3",
   "version": "3.12.2"
  }
 },
 "nbformat": 4,
 "nbformat_minor": 2
}
